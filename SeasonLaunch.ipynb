{
 "cells": [
  {
   "cell_type": "markdown",
   "metadata": {},
   "source": [
    "# 2024 Season Launch\n",
    "\n",
    "<div style=\"text-align: justify\">\n",
    "\n",
    "Welcome managers old and new to the brand new season of our little F1 Fantasy League, which this year is sticking with the name Rawe Ceek. If you're unfamiliar with that name, let me direct you to the Rawe Ceek meme and give you time to go and Google why that's funny. It's a tired joke now but that makes it perfect for a Fantasy League name. Hopefully you are all geared up and ready for the longest season we've ever had, and despite the few drop outs we've had this year, we have a very busy league again. I believe we have 60 teams this year, which is a slight step down from the previous, but the pot is bigger than ever!\n",
    "\n",
    "Without getting ahead of myself here, let me run through some of the finer details of the league that have been lost in the noise recently. All of the points scoring and team management is done using the [F1 Fantasy App/Site](https://fantasy.formula1.com/en/). The points, penalty, transfer, and perk systems are all explained on that website in the Rules section. I do not have any influence on how this is done, so don't blame me when/if things go wrong.\n",
    "\n",
    "What I do do (compose yourself) is keep track of everyone's statistics, transfers, team lineups, points, values, etc. I also provide weekly race reports, gossip, tasty liveries, and much more to try and engage with some like-minded people about a sport I have followed and loved for nearly 3 decades. If you're here, that means you either feel the same, want to win some money, or you like bating Hamilton fans as much as the next person. Either way, it's all good with me as long as we respect each other enough to know when the joke stops. Deal?\n",
    "\n",
    "## Team Submission\n",
    "\n",
    "As many of you now know, you get up to 3 teams with each registered email, and they can all be entered ino the league using the code C6YB4IHI405. Though chances are you're reading this after the league has begun so you already know all of this. Teams are recorded and locked in at the start of qualifying 1, so any changes made to your team after this are not counted for the current race weekend, unless you use the final fix perk (see game rules for more). This means that you need to decide on any substitutions or alterations prior to qualifying.\n",
    "\n",
    "Team names can be chosen by the user, though F1 does have some rules about what you can choose to call your teams, and they shouldn't be directly targeted at each other. Let's just be nice about it eh? There's no rule I have about targeting names towards members of the actual F1 community, so go for it if you want. All I ask is that you keep your team names constant for the duration of the league, as going back through and changing anything for my own code, is a bit of a pain.\n",
    "\n",
    "There is a small sub-section of our league that compete for a \"Golf Score\". The aim here is to achieve the lowest score possible without taking penalties, i.e., without artificially creating negative scores. Anyone is welcome to compete in this category.\n",
    "\n",
    "## Prizes\n",
    "\n",
    "There is absolutely no need to commit to the prize fund, it is entirely optional. Every year, I run a series of challenges that managers can attempt to achieve with their teams and are rewarded with financial gain from the community pot. 100% of the collected money is paid out, this is a non-profit system. Entry is £5 per email account, and should be paid prior to the start of the first qualifying session. This is an attempt to stop people holding off on paying in to the pot before they know they've got a good/bad team. It's all about fairness. The prizes typically stay constant from year to year, though there are some that change depending on the calendar. Below are the prizes available for this year.\n",
    "\n",
    "### League\n",
    "\n",
    "The following prizes are competed for throughout the year, with everything to play for until the very end. Prizes are given as a percentage of the total pot.\n",
    "\n",
    "| Name | Condition | Prize |\n",
    "| :-: | :-: | :-: |\n",
    "| | | (%) |\n",
    "| Champion of the World | League $1^{st}$ Place | 20 |\n",
    "| First of the Losers | League $2^{nd}$ Place | 10 |\n",
    "| Look Mum I'm on the Podium | League $3^{rd}$ Place | 5 |\n",
    "| Golf Champion | League Last Place | 20 |\n",
    "\n",
    "### Achievements\n",
    "\n",
    "The following prizes can be achieved at multiple races throughout the year. Prizes are given as a percentage of the total pot.\n",
    "\n",
    "| Name | Condition | Prize |\n",
    "| :-: | :-: | :-: |\n",
    "| | | (%) |\n",
    "| One Shot Wonder | Highest Weekly Score | 5 |\n",
    "| All Baskets One Egg | Lowest Weekly Score | 5 |\n",
    "| Cost Cap | Highest Value Team in Abu Dhabi | 5 |\n",
    "| Manager of the Year | Highest Average Manager Score | 5 |\n",
    "| Sprint King | Highest Score for Sprints | 5 |\n",
    "| The Continental | Highest Score Across Continents | 5 |\n",
    "| The Hot Seat | Most Legal Substitutions | 5 |\n",
    "\n",
    "### Spot Prizes\n",
    "\n",
    "The following pries are achieved at individual races. Prizes are given as a percentage of the total pot.\n",
    "\n",
    "| Name | Condition | Prize |\n",
    "| :-: | :-: | :-: |\n",
    "| | | (%) |\n",
    "| Obviously Do That Tactically | Saudi Arabia High Score | 1 |\n",
    "| Hamilton's Reverse Gear | Imola Low Score | 1 |\n",
    "| Jewel of the Crown | Monaco High Score | 1 |\n",
    "| Madrid will be Better | Spain Low Score | 1 |\n",
    "| Bottas Bowling | Hungary Low Score | 1 |\n",
    "| The Sauce | Belgium Low Score | 1 |\n",
    "| Super Max | Netherlands Low Score | 1 |\n",
    "| Well Done Baku | Azerbaijan High Score | 1 |\n",
    "| It's on Purpose | Singapore High Score | 1 |\n",
    "| What Happens in Vegas Stays in Vegas | Vegas High Score | 1 |\n",
    "\n",
    "### Rules\n",
    "\n",
    "* Cost cap is awarded to the highest value team at the Abu Dhabi Grand Prix, this prize does not include the use of the limitless perk which will disqualify you from the prize.\n",
    "* More than 5 penalties across the season will disqualify you from the substitution prize and Gold Champion.\n",
    "* Penalties taken to achieve lowest weekly score or low score spot prizes will result in disqualification from the prize.\n",
    "* Manager of the year must be completed by someone with more than 1 team.\n",
    "* Prizes will not be awarded to players who have not paid into the prize pot.\n",
    "* Sprint king is awarded to the total highest score at the following races:\n",
    "  * China\n",
    "  * Miami\n",
    "  * Austria\n",
    "  * USA\n",
    "  * Brazil\n",
    "  * Qatar\n",
    "* The Continental is awarded to the total highest score at the following races:\n",
    "  * Bahrain\n",
    "  * Australia\n",
    "  * Japan\n",
    "  * Canada\n",
    "  * Great Britain\n",
    "  * Italy\n",
    "  * Mexico\n",
    "* Prize money is awarded at the end of the season.\n",
    "\n",
    "## Starting the Season\n",
    "\n",
    "With all that covered, let's get the record breaking 24-race season for the 2024 Formula 1 Championship underway. You're going to see a mix of text and code in this document, but don't worry, that's just me being a massive nerd.\n",
    "\n",
    "</div>"
   ]
  },
  {
   "cell_type": "code",
   "execution_count": 1,
   "metadata": {},
   "outputs": [],
   "source": [
    "import subprocess\n",
    "import src.dataIO as io\n",
    "\n",
    "from pathlib import Path\n",
    "\n",
    "root = Path().absolute()\n",
    "season_info = io.load_json(file_path=Path(f'{root}/Info.json'))[\"2024\"]"
   ]
  },
  {
   "cell_type": "markdown",
   "metadata": {},
   "source": [
    "### Races\n",
    "\n",
    "<div style=\"text-align: justify\">\n",
    "\n",
    "There are, as I have mentioned, 24 races this year. These are as follows:\n",
    "\n",
    "</div>"
   ]
  },
  {
   "cell_type": "code",
   "execution_count": 2,
   "metadata": {},
   "outputs": [
    {
     "data": {
      "text/markdown": [
       "['Bahrain', 'Saudi Arabia', 'Australia', 'Japan', 'China', 'Miami', 'Imola', 'Monaco', 'Canada', 'Spain', 'Austria', 'Great Britain', 'Hungary', 'Belgium', 'Netherlands', 'Italy', 'Azerbaijan', 'Singapore', 'United States', 'Mexico', 'Brazil', 'Las Vegas', 'Qatar', 'Abu Dhabi']"
      ],
      "text/plain": [
       "<IPython.core.display.Markdown object>"
      ]
     },
     "metadata": {},
     "output_type": "display_data"
    }
   ],
   "source": [
    "io.output_json(dictionary=season_info[\"Races\"])"
   ]
  },
  {
   "cell_type": "markdown",
   "metadata": {},
   "source": [
    "<div style=\"text-align: justify\">\n",
    "\n",
    "The sprint races are to be held at China, Miami, Austria, USA (CotA), Brazil, and Qatar. Races are going to be held on a Saturday for Bahrain, Saudi Arabia, and Las Vegas. China is back on the calendar for the first time since 2019, and Japan has been swapped with Azerbaijan in the season, presumably for a more environmentally-friendly calendar.\n",
    "\n",
    "### Team Layout and Perks\n",
    "\n",
    "Your teams consist of 5 drivers, 2 constructors, 1 DRS Boost (double score), and the option to use 6 perks. The perks are Wildcard, Limitless, No Negative, Final Fix, Extra DRS, and Auto Pilot.\n",
    "\n",
    "</div>"
   ]
  },
  {
   "cell_type": "code",
   "execution_count": 3,
   "metadata": {},
   "outputs": [
    {
     "data": {
      "text/markdown": [
       "['Driver 1', 'Driver 2', 'Driver 3', 'Driver 4', 'Driver 5', 'Constructor 1', 'Constructor 2', 'DRS Boost', 'Penalties', 'Perks']"
      ],
      "text/plain": [
       "<IPython.core.display.Markdown object>"
      ]
     },
     "metadata": {},
     "output_type": "display_data"
    },
    {
     "data": {
      "text/markdown": [
       "['Wildcard', 'Limitless', 'Final Fix', 'Auto Pilot', 'Extra DRS', 'No Negative']"
      ],
      "text/plain": [
       "<IPython.core.display.Markdown object>"
      ]
     },
     "metadata": {},
     "output_type": "display_data"
    }
   ],
   "source": [
    "io.output_json(dictionary=season_info[\"Team\"])\n",
    "io.output_json(dictionary=season_info[\"Perks\"])"
   ]
  },
  {
   "cell_type": "markdown",
   "metadata": {},
   "source": [
    "### Managers and Teams\n",
    "\n",
    "<div style=\"text-align: justify\">\n",
    "\n",
    "Currently there are 60 teams entered into the league at time of writing. That may change as some latecomers filter their teams in. I count 24 managers, with at least 1 more who hasn't registers yet. Looking at **YOU** *Sam-CJ*....\n",
    "\n",
    "The teams I have on record are:\n",
    "\n",
    "</div>"
   ]
  },
  {
   "cell_type": "code",
   "execution_count": 4,
   "metadata": {},
   "outputs": [
    {
     "data": {
      "text/markdown": [
       "{'Josh M': ['Petrobras Williams RBS F1', 'Siemens McLaren West', 'Vodafone Ferrari Marlboro'], 'Sebastian M': ['Denso Panasonic Toyota F1', 'JPS Lotus Renault', 'Telefonica Minardi Doimo'], 'Will R': ['Dinoco Piston Champions', 'Push To Pass', 'The Big One'], 'Phil M': ['A Little Team', 'BMW Motorrad', 'BMW Should Be Here'], 'Jake M': ['A Sauber or Kick or Stake', 'An Oscar for breakfast', 'One Red Bull Car & Gasly'], 'Adam R': ['Better Luck Next Time Bud', 'Haas every name ben taken', 'Just win init'], 'James R': ['Bwoah Moet Shell Racing', 'Bwoah OnlyFans VIP Racing', 'Bwoah Rolex Sipsmith Golf'], 'Stuart S': [\"E l'ora del martello\", \"Christian's Hornie\", 'Ferrari Strategists'], 'Pierce C': ['Ferrari Champions 2026', 'Grazzi#44'], 'Andrew F': ['Forced to pick Max', 'I simp for Zak Brown', 'sBinnala Yacht Club'], 'Stefanus W': ['Gelael', 'Haryanto', 'Syahrul'], 'Madlen P': ['Go Boys Give Us Nothing', 'Les eclairs', 'Maxy & The Boys'], 'Tom C': ['Hawks at T2', 'Mc Sled Dogs', 'Toasted eggs'], 'Toby P': ['Hesketh 2.1'], 'Patrick L': ['Johnny UniHaas', 'Racing No Points'], 'Cameron M': [\"Josh's hairy balls\", \"Matty's snipped balls\", \"Stuart's snipped balls\"], 'Joe T': ['kicktwitchyoutubepremium'], 'Charlie L': [\"Lee Carvallo's F1 Challen\", 'No Horners Club', \"Uncle Moe's Family Speedbag\"], 'Pete J': ['Lightning McCars', 'Peugeot Over Ford', 'Squeshed Nintendo Racing'], 'Tim W': ['Lights out, got punched'], 'Val M': ['Make A U Turn', \"Mater's Mates\", \"My Fav'rit Colour Is Blue\"], 'Chloe B': ['Ms Fritters Driving Skool'], 'Matty J': ['O B Latte', 'The Lizard Queen', 'Throw Him In JaYaL'], 'Jo H': ['THE LONG AND WINDING ROAD'], 'Sam CJ': ['Mirror, Signal, Manoeuvre']}"
      ],
      "text/plain": [
       "<IPython.core.display.Markdown object>"
      ]
     },
     "metadata": {},
     "output_type": "display_data"
    }
   ],
   "source": [
    "io.output_json(dictionary=season_info[\"Managers\"])"
   ]
  },
  {
   "cell_type": "markdown",
   "metadata": {},
   "source": [
    "### Prize Pot\n",
    "\n",
    "<div style=\"text-align: justify\">\n",
    "\n",
    "Finally, the prize pot has £140. Meaning the above percentages can now be estimated at, 20% = £28 , 10% = £14, 5% = £7, 1% = £1.40.\n",
    "\n",
    "### Season Files\n",
    "\n",
    "I will now launch the season and create the necessary files for tracking, plotting, and statistics. If you'd like to follow along with the deeper information in this code, you can find it all in this [Github Repository](https://github.com/jm1261/Fantasy-F1-League).\n",
    "\n",
    "</div>"
   ]
  },
  {
   "cell_type": "code",
   "execution_count": 5,
   "metadata": {},
   "outputs": [
    {
     "data": {
      "text/plain": [
       "CompletedProcess(args=['python', WindowsPath('c:/Users/joshs/github/Fantasy-F1-League/seasonlaunch.py'), '2024'], returncode=1)"
      ]
     },
     "execution_count": 5,
     "metadata": {},
     "output_type": "execute_result"
    }
   ],
   "source": [
    "subprocess.run([\"python\", Path(f'{root}/seasonlaunch.py'), '2024'])"
   ]
  }
 ],
 "metadata": {
  "kernelspec": {
   "display_name": "Python 3",
   "language": "python",
   "name": "python3"
  },
  "language_info": {
   "codemirror_mode": {
    "name": "ipython",
    "version": 3
   },
   "file_extension": ".py",
   "mimetype": "text/x-python",
   "name": "python",
   "nbconvert_exporter": "python",
   "pygments_lexer": "ipython3",
   "version": "3.10.0"
  }
 },
 "nbformat": 4,
 "nbformat_minor": 2
}

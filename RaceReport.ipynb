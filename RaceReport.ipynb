{
 "cells": [
  {
   "cell_type": "markdown",
   "metadata": {},
   "source": [
    "# 2024 Bahrain Grand Prix\n",
    "\n",
    "<div style=\"text-align: justify\">\n",
    "\n",
    "sabah alkhayr ya mudirin and welcome to the first race report for the 2024 Fantasy F1 league! We finally made it through the off-season, and what a chaotic time it has been since the chequered flag fell in 2023.\n",
    "\n",
    "</div>"
   ]
  },
  {
   "cell_type": "markdown",
   "metadata": {},
   "source": [
    "<div style=\"text-align: justify\">\n",
    "\n",
    "In case you've been living under a rock for the last few months, here's a brief summary of some of the major events that have happened since we saw Max doing donuts in Abu Dhabi. Lewis Hamilton signed a multi-year deal with Ferrari, breaking his contract with Mercedes a year early, and joining the Scuderia in 2025 and beyond. The Brit will replace Carlos Sainz, who is yet to sign a replacement contract. Alfa Romeo left the sport and the Sauber team re-branded as Stake F1 Kick Sauber, though this name is not the official name as Stake is banned in a lot of countries, including Switzerland where the Sauber brand is based. The team launched their bright green machine and immediately realised that they may have to rename themselves Kick Sauber. Guenther Steiner, the legend of Driver To Survive, was let go by Haas F1 with immediate effect. There was little explanation for the departure of the iconic team principle, from the American outfit, but it seems like a knee-jerk reaction from a team struggling to stay afloat in an expensive business. Alpine launched a disastrous car with very little in the way of paint, with their team losing some key members from the team in the last few weeks. The French outfit are looking to be the worst on the grid in testing and it can only get better from here. Though, after the sacking of their team principle last year, the Enstone team have had nothing but issues. Then there's the Christian Horner investigation. I am not going to comment much on this because it has been dropped by parent company Red Bull GmbH after an independent investigation. Rumours are circling and I'm sure, if there is any truth behind them, it will all come out in the wash.\n",
    "\n",
    "</div>"
   ]
  },
  {
   "cell_type": "markdown",
   "metadata": {},
   "source": [
    "<div style=\"text-align: justify\">\n",
    "\n",
    "## Grand Prix Report\n",
    "\n",
    "Without any further adieu, let's get in to the race report for the 2024 Bahrain Grand Prix. For those who are new to this life, these weekly reports typically start with a brief report of the weekend, followed by a report of the top 5 and bottom 5 weekly scorers in the league, then it's time for the top 5 and bottom 5 in the championship, any relevant prizes to be awarded, some comments about how my code is broken and I haven't got the figures, a reminder about the F1 play competition, and a look to the next race.\n",
    "\n",
    "</div>"
   ]
  },
  {
   "cell_type": "markdown",
   "metadata": {},
   "source": [
    "<div style=\"text-align: justify\">\n",
    "\n",
    "### Qualifying Report\n",
    "\n",
    "It may have been 3 months, an entire off-season of development, rumours about Mercedes and mcLaren during testing, and a complete re-design of the most dominant car in F1 history, but it's business as usual at the front for the reigning world champion. After reporting some handling issues and gearbox issues in free practice, Max went on to secure a comfortable pole position on Friday evening in Bahrain. The Dutchman was a good 3 tenths of a second ahead of nearest competitor Charles Leclerc, who recently signed a multi-year extension at the Italian team. It was significantly closer going down the field, with George Russell showing some good pace in third, Sainz in fourth, Perez in fifth, and the hero of 2023 Fernando Alonso in sixth place. If this is indicative of the season ahead, we are in for a close competition behind Max.\n",
    "\n",
    "Some standout performances include Nico Hulkenberg, who after new team principle Komatsu said \"we are the slowest car\", popped his newly designed Haas into Q3 1 second behind 7 time champion Lewis Hamilton. Teammate Kevin Magnussen also managed to scrape a Q2 appearance, making it a strong opening gambit from Haas.\n",
    "\n",
    "Things are not well at the French team of Alpine it seems. With senior members resigning, their owner brandishing wild claims in the media, a list of A-listers sent in last season to provide investment, a paint-less car, and weak testing performance, neither Alpine was able to make it off the back row of the grid. There are some serious reliability concerns down at Alpine too, with the team worried if they will survive the hotter Grand Prix of the year. There's much work to be done and everyone is being very positive on social media, but if last year taught us anything, it's that Gasly and Ocon are not team players with each other.\n",
    "\n",
    "</div>"
   ]
  },
  {
   "cell_type": "markdown",
   "metadata": {},
   "source": [
    "<div style=\"text-align: justify\">\n",
    "\n",
    "### Race Report\n",
    "\n",
    "As races go, that was definitely one of them. It wasn't exactly what we have come to expect from Formula 1 in the not-too-distant past, but it is certainly what we have come to expect from Max Verstappen in the last year or so. The Dutchman romped home to a 22-second victory over teammate Sergio Perez. There was never really a moment of doubt for Max, despite Sky Sports claiming Leclerc nearly collided with him into turn 1. It was a strong performance from Perez though, who was able to cleverly preserve his tyres and pick his battles in a rare turn of form from the Mexican driver.\n",
    "\n",
    "Despite a third and fourth place, things are clearly not ok at Ferrari. Carlos Sainz is clearly out to prove a point this year, and honestly I don't blame him at all. The Spanish star was the only non-Red Bull driver to win a Grand Prix in 2023, and was dropped at the first opportunity in favour of Hamilton, who let's not forget hasn't won a race since Saudi Arabia 2021. Frustrated behind his teammate, who seemed to be suffering with brakes, Sainz took the opportunity to pass into turn 1 and he never looked back. Pulling back a gap to Perez, but sadly to no effect.\n",
    "\n",
    "It seems to be fairly close between the McLarens, Mercedes, and (in the right conditions) the Astons. George, Norris, Lewis, and Oscar were all fairly close throughout the race, with Fernando seemingly running his own race not too far behind. These three teams are going to make or break the fight for second in the championship this year if they can close that gap to Ferrari later in the year. It is certainly going to be close.\n",
    "\n",
    "Not something that I have spoken about yet, but the newly branded RB team, or Visa CashApp Racing Bulls, or whatever name they're going by, is becoming quite the hotbed for that second Red Bull seat. It's been no secret in the past that Red Bull typically promote from their junior team. It's also no secret that Yuki Tsunoda is tipped to replace Sergio Perez, that was until Ricciardo arrived back on the scene. McLaren's last race winner is keen to make a return to the top team before his time is up, and Yuki knows it. After the race, and after that team swap call, Yuki dive bombed Danny into the hairpin and came up alongside to show the team how upset he was with the decision.\n",
    "\n",
    "Things look to be ok at Alpine with the team gaining two places for each driver, however if you actually look at why they gained positions, it's not good news. Hulkenberg, Bottas, and Stroll collided into turn 1, and Sargeant's shiny new dash caused brake bias chaos into turn 4, thus promoting the two French drivers. Despite Hulk's crash, the Alpines had no answer for the Haas pace.\n",
    "\n",
    "This is, however, the first time in F1 history that all cars have finished the opening race. A nice way to start the first season where all drivers have progressed from the previous season. A race of firsts in the history of our sport.\n",
    "\n",
    "</div>"
   ]
  },
  {
   "cell_type": "markdown",
   "metadata": {},
   "source": [
    "## Fantasy League Scores\n",
    "\n",
    "<div style=\"text-align: justify\">\n",
    "\n",
    "### Lineup Scores\n",
    "\n",
    "Right, let's get into it then, who came out on top in the fantasy league, and who's wallowing in misery at the bottom of the league after only the first week? Well to start with, we have to take a look at the Driver/Team points for the 2024 grid.\n",
    "\n",
    "A little bit of background info, a peak behind the curtain if you will. The driver/team points and values are recorded as shown below. The values are counted on the day after the race for the next race. Points are counted at the same time. The points given are a total and then my code corrects between the total score previously and the total score now to calculate weekly scores. This is the path of least resistance for me as it allows me to just scroll the team sheet and enter the points and values next to each name.\n",
    "\n",
    "</div>"
   ]
  },
  {
   "cell_type": "code",
   "execution_count": null,
   "metadata": {},
   "outputs": [],
   "source": [
    "import subprocess\n",
    "import src.dataIO as io\n",
    "\n",
    "from pathlib import Path\n",
    "\n",
    "year = 2024\n",
    "race = 'Saudi Arabia'\n",
    "\n",
    "weekly_scores = {\n",
    "    \"Name\": [\"Points\", \"Value\"],\n",
    "    \"Race\": [f'{race}'],\n",
    "    \"Ocon\": [8.3],\n",
    "    \"Gasly\": [7.7],\n",
    "    \"Stroll\": [11.2],\n",
    "    \"Alonso\": [15.9],\n",
    "    \"Leclerc\": [19.4],\n",
    "    \"Sainz\": [18.8],\n",
    "    \"Magnussen\": [6.7],\n",
    "    \"Hulkenberg\": [6.2],\n",
    "    \"Bottas\": [6.2],\n",
    "    \"Guanyu\": [7.1],\n",
    "    \"Norris\": [23.1],\n",
    "    \"Piastri\": [19.1],\n",
    "    \"Hamilton\": [19.4],\n",
    "    \"Russell\": [19.1],\n",
    "    \"Tsunoda\": [7.8],\n",
    "    \"Ricciardo\": [8.9],\n",
    "    \"Verstappen\": [30.2],\n",
    "    \"Perez\": [21.2],\n",
    "    \"Albon\": [6.8],\n",
    "    \"Sargeant\": [5.4],\n",
    "    \"Alpine\": [8.3],\n",
    "    \"Aston Martin\": [14.1],\n",
    "    \"Ferrari\": [19.6],\n",
    "    \"Haas\": [6.2],\n",
    "    \"Kick Sauber\": [6.5],\n",
    "    \"McLaren\": [23.3],\n",
    "    \"Mercedes\": [20.2],\n",
    "    \"RB\": [8.4],\n",
    "    \"Red Bull\": [28.0],\n",
    "    \"Williams\": [6.2]}\n",
    "root = Path().absolute()\n",
    "io.save_json_dicts(\n",
    "    out_path=Path(f'{root}/Data/{year}/Lineup_Weekly.json'),\n",
    "    dictionary=weekly_scores)\n",
    "subprocess.run([\"python\", \"lineup.py\", f'{year}'])"
   ]
  },
  {
   "cell_type": "markdown",
   "metadata": {},
   "source": [
    "<div style=\"text-align: justify\">\n",
    "\n",
    "Max Verstappen takes an early lead in the fantasy league scores, coming in with a mega 45 points with a pole, fastest lap, and race win. Beating his teammate Sergio Perez has giving the early advantage to Ferrari's Carlos Sainz who take second with 36 points. Perez is close behind with 31 points scored this weekend, with another Ferrari appearance from Charles Leclerc in fourth. Rounding out the top five is George Russell with 20 points after a strong early showing from the Mercedes team in Bahrain. Despite a strong performance in qualifying and a good race pace, Nico Hulkenberg lands himself at the bottom of the table with -3 points, closely followed by Yuki Tsunoda, who suffered a lot of dropped places and a beating from his teammate. Albon and Bottas score a pair of zeros, with Logan Sargeant taking the early lead at Williams, rounding out the bottom five. Naturally, at this stage, the Bahrain scores and Total Scores are the same.\n",
    "\n",
    "In the Constructor's game, it's an early lead for Red Bull and Ferrari, who bring home a solid result of 89 and 73, respectively. A poor weekend for Williams and RB see them take the first honours at bottom of the table with 4 and 7, respectively. This is largely due to some semi-decent qualifying pace but positions lost throughout the race. There's plenty of time for these teams to claw back some honour.\n",
    "\n",
    "</div>"
   ]
  },
  {
   "cell_type": "code",
   "execution_count": null,
   "metadata": {},
   "outputs": [],
   "source": [
    "points_files = [\n",
    "    'Driver_Points_Bar.png',\n",
    "    'Team_Points_Bar.png',\n",
    "    'Driver_Sum Points.png',\n",
    "    'Team_Sum Points.png']\n",
    "directory_path = Path(f'{root}/Data/{year}/Figures/{race}')\n",
    "file_paths = [Path(f'{directory_path}/{race}_{file}') for file in points_files]\n",
    "[io.display_img(file_path=path, width=1200, height=720) for path in file_paths]"
   ]
  },
  {
   "cell_type": "markdown",
   "metadata": {},
   "source": [
    "<div style=\"text-align: justify\">\n",
    "\n",
    "Max maintains his high price from last year, out-pricing Red Bull as the most expensive entry on the team sheet list. The prices are quite shocking this year, with even Lando Norris coming in at a very high price. There's little to say on the price list and the average points score, but check back here for future races to see the progress.\n",
    "\n",
    "</div>"
   ]
  },
  {
   "cell_type": "code",
   "execution_count": null,
   "metadata": {},
   "outputs": [],
   "source": [
    "average_files = [\n",
    "    'Driver_Values_Bar.png',\n",
    "    'Team_Values_Bar.png',\n",
    "    'Driver_Average Points.png',\n",
    "    'Team_Average Points.png']\n",
    "directory_path = Path(f'{root}/Data/{year}/Figures/{race}')\n",
    "file_paths = [\n",
    "    Path(f'{directory_path}/{race}_{file}') for file in average_files]\n",
    "[io.display_img(file_path=path, width=1200, height=720) for path in file_paths]"
   ]
  },
  {
   "cell_type": "markdown",
   "metadata": {},
   "source": [
    "<div style=\"text-align: justify\">\n",
    "\n",
    "Josh's pick of the week goes to Carlos Sainz, who brings home the highest points per value score of 1.95. The Spanish driver smashes it out of the park by taking the strategy in to his own hands and thrashing both highly priced Red Bull drivers. Surprisingly Guanyu Zhou scores a mega 1.67 points per million, continuing his streak as \"best of the picks\" from last season. The trend of Ferrari getting the better slice of the fantasy pie continues in the team game, with the points per value coming out on top with 3.78. If you're playing the averages game, they are certainly one to pick.\n",
    "\n",
    "</div>"
   ]
  },
  {
   "cell_type": "code",
   "execution_count": null,
   "metadata": {},
   "outputs": [],
   "source": [
    "ppv_files = [\n",
    "    'Driver_Points Per Value_Bar.png',\n",
    "    'Team_Points Per Value_Bar.png',\n",
    "    'Driver_Average Points Per Value.png',\n",
    "    'Team_Average Points Per Value.png']\n",
    "directory_path = Path(f'{root}/Data/{year}/Figures/{race}')\n",
    "file_paths = [Path(f'{directory_path}/{race}_{file}') for file in ppv_files]\n",
    "[io.display_img(file_path=path, width=1200, height=720) for path in file_paths]"
   ]
  },
  {
   "cell_type": "code",
   "execution_count": null,
   "metadata": {},
   "outputs": [],
   "source": [
    "subprocess.run([\"python\", \"manager.py\", f'{year}'])"
   ]
  },
  {
   "cell_type": "markdown",
   "metadata": {},
   "source": [
    "### Manager Scores\n",
    "\n",
    "<div style=\"text-align: justify\">\n",
    "\n",
    "Now let's look at the winners and losers between you lot. Who's taking the early honour and glory? Rookie manager Stefanus and Haryanto take the first top step of the year with a score of 238 points, as if that wasn't enough Stefanus is also taking second place with Syahrul and 231 points. Seasoned veteran Stuart is taking the final podium step with Christian's Hornie and 220 points. Josh and Petrobras Williams RBS F1 is next up with 216 points, while Charlie and Uncle Moe's Family Speedbag round out the top five with 210 points.\n",
    "\n",
    "It's first blood to Patrick and Racing No Points in the Golf League with a mega 40 points, just four ahead of reigning champions Bwoah Rolex Sipsmith Golf and manager James Reckitt with 44 points. There have been some big changes down at Bwoah industries in the off-season, but clearly they are yet to hit the ground running. Charlie and Lee Carvallo's F1 Challen are third this week with 46 points, just one ahead of Will and The Big One with 47. Rounding out the bottom five is Andrew and sBinnala Yacht Club with 48 points. It's all very tight straight away at the bottom of the table.\n",
    "\n",
    "</div>"
   ]
  },
  {
   "cell_type": "code",
   "execution_count": null,
   "metadata": {},
   "outputs": [],
   "source": [
    "team_files = [\n",
    "    'LeagueTeams_Points_Bar.png',\n",
    "    'LeagueManagers_Average Points_Bar.png',\n",
    "    'LeagueTeams_Sum Points.png',\n",
    "    'LeagueManagers_Sum Points.png']\n",
    "directory_path = Path(f'{root}/Data/{year}/Figures/{race}')\n",
    "file_paths = [\n",
    "    Path(f'{directory_path}/{race}_{file}') for file in team_files]\n",
    "[io.display_img(file_path=path, width=1200, height=720) for path in file_paths]"
   ]
  },
  {
   "cell_type": "markdown",
   "metadata": {},
   "source": [
    "<div style=\"text-align: justify\">\n",
    "\n",
    "After mild success last year, Alex Albon tops the list as the most used driver for Bahrain in the league with 33 of 61 teams running the Thai driver this weekend. Daniel Ricciardo comes a close second with 31 selections, while the reigning world champion only managed 28 of the 61 teams this week. That's quite surprising given his dominant run last year.\n",
    "\n",
    "All 20 drivers made the selection this week, but George Russell only qualified for 3 of the 61 teams, despite putting in a solid performance. The other least selected drivers make for a grim tale of the points system. Sergio Perez and Lance Stroll, both drivers who are priced similarly to their teammates and are usually beaten. Perhaps that will change as we progress through the year.\n",
    "\n",
    "Ferrari top the selection for the constructors this week, with a total of 23 of 61 potential selections. New team RB come a close second, but it was Alpine who were only chosen twice in 61 potential options. No surprise there, given their testing performance.\n",
    "\n",
    "There were no uses of the Extra DRS token this week, which is unusual as a lot of people tend to pop it early for a glory run. Max topped the DRS boost usage with 28 of 61 uses, by far and away the most used there. 5 Auto Pilot tokens were used in the first race. This is quite a good time to use the Auto Pilot token while things are still fairly unknown.\n",
    "\n",
    "</div>"
   ]
  },
  {
   "cell_type": "code",
   "execution_count": null,
   "metadata": {},
   "outputs": [],
   "source": [
    "count_files = [\n",
    "    'LeagueCounts_Driver_Bar.png',\n",
    "    'LeagueCounts_Constructor_Bar.png',\n",
    "    'LeagueCounts_DRS Boost_Bar.png',\n",
    "    #'LeagueCounts_Extra DRS_Bar.png',\n",
    "    'LeagueCounts_Perks_Bar.png']\n",
    "directory_path = Path(f'{root}/Data/{year}/Figures/{race}')\n",
    "file_paths = [\n",
    "    Path(f'{directory_path}/{race}_{file}') for file in count_files]\n",
    "[io.display_img(file_path=path, width=1200, height=720) for path in file_paths]"
   ]
  },
  {
   "cell_type": "markdown",
   "metadata": {},
   "source": [
    "<div style=\"text-align: justify\">\n",
    "\n",
    "For more figures, please see the Facebook group album.\n",
    "\n",
    "## Prizes\n",
    "\n",
    "In future races, I will detail more about prize progress, spot prizes, and other items here.\n",
    "\n",
    "## F1 Play\n",
    "\n",
    "Stuart takes the early lead in the F1 play league this year, scoring 3/10. Matty and Josh were only able to secure a 2/10 in the opening race.\n",
    "\n",
    "</div>"
   ]
  },
  {
   "cell_type": "code",
   "execution_count": null,
   "metadata": {},
   "outputs": [],
   "source": [
    "F1_play = {\n",
    "    \"Stuart S\": [3],\n",
    "    \"Matty J\": [2],\n",
    "    \"Josh M\": [2]}"
   ]
  },
  {
   "cell_type": "markdown",
   "metadata": {},
   "source": [
    "## Next Up\n",
    "\n",
    "<div style=\"text-align: justify\">\n",
    "\n",
    "Next up we take to the streets of Jeddah in Saudi Arabia. Jeddah has provided some chaotic races since its inception, but last year was rather tame by comparison. Will it be another snooze fest? Who knows, but what I do know is that there is a prize for the highest scoring team. So, is it time to pop your tokens for a prize? Or are you saving them for later in the year? Good luck to you all.\n",
    "\n",
    "</div>"
   ]
  }
 ],
 "metadata": {
  "kernelspec": {
   "display_name": "Python 3",
   "language": "python",
   "name": "python3"
  },
  "language_info": {
   "codemirror_mode": {
    "name": "ipython",
    "version": 3
   },
   "file_extension": ".py",
   "mimetype": "text/x-python",
   "name": "python",
   "nbconvert_exporter": "python",
   "pygments_lexer": "ipython3",
   "version": "3.10.0"
  }
 },
 "nbformat": 4,
 "nbformat_minor": 2
}
